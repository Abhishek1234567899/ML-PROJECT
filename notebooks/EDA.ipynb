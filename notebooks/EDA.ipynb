{
 "cells": [
  {
   "cell_type": "code",
   "execution_count": 1,
   "metadata": {},
   "outputs": [],
   "source": [
    "# enjust the data"
   ]
  },
  {
   "cell_type": "code",
   "execution_count": 2,
   "metadata": {},
   "outputs": [
    {
     "data": {
      "text/plain": [
       "'conda install -p d:\\\\ML Projects\\\\ML PROJECT\\\\env ipykernel --update-deps --force-reinstall'"
      ]
     },
     "execution_count": 2,
     "metadata": {},
     "output_type": "execute_result"
    }
   ],
   "source": [
    "'conda install -p d:\\ML Projects\\ML PROJECT\\env ipykernel --update-deps --force-reinstall'"
   ]
  },
  {
   "cell_type": "code",
   "execution_count": null,
   "metadata": {},
   "outputs": [],
   "source": [
    "\"\"\"Introduction About the Data :\n",
    "The dataset The goal is to predict price of given diamond (Regression Analysis).\n",
    "\n",
    "There are 10 independent variables (including id):\n",
    "\n",
    "id : unique identifier of each diamond\n",
    "carat : Carat (ct.) refers to the unique unit of weight measurement used exclusively to weigh gemstones and diamonds.\n",
    "cut : Quality of Diamond Cut\n",
    "color : Color of Diamond\n",
    "clarity : Diamond clarity is a measure of the purity and rarity of the stone, graded by the visibility of these characteristics under 10-power magnification.\n",
    "depth : The depth of diamond is its height (in millimeters) measured from the culet (bottom tip) to the table (flat, top surface)\n",
    "table : A diamond's table is the facet which can be seen when the stone is viewed face up.\n",
    "x : Diamond X dimension\n",
    "y : Diamond Y dimension\n",
    "x : Diamond Z dimension\n",
    "Target variable:\n",
    "\n",
    "price: Price of the given Diamond.\n",
    "Dataset Source Link : https://www.kaggle.com/competitions/playground-series-s3e8/data?select=train.csv \"\"\""
   ]
  },
  {
   "cell_type": "code",
   "execution_count": 3,
   "metadata": {},
   "outputs": [],
   "source": [
    "import pandas as pd"
   ]
  },
  {
   "cell_type": "code",
   "execution_count": 4,
   "metadata": {},
   "outputs": [],
   "source": [
    "# putting the absolute path\n",
    "df=pd.read_csv(r\"D:\\ML Projects\\ML PROJECT\\notebooks\\data\\cubic_zirconia.csv\")"
   ]
  },
  {
   "cell_type": "code",
   "execution_count": 5,
   "metadata": {},
   "outputs": [
    {
     "data": {
      "text/html": [
       "<div>\n",
       "<style scoped>\n",
       "    .dataframe tbody tr th:only-of-type {\n",
       "        vertical-align: middle;\n",
       "    }\n",
       "\n",
       "    .dataframe tbody tr th {\n",
       "        vertical-align: top;\n",
       "    }\n",
       "\n",
       "    .dataframe thead th {\n",
       "        text-align: right;\n",
       "    }\n",
       "</style>\n",
       "<table border=\"1\" class=\"dataframe\">\n",
       "  <thead>\n",
       "    <tr style=\"text-align: right;\">\n",
       "      <th></th>\n",
       "      <th>Unnamed: 0</th>\n",
       "      <th>carat</th>\n",
       "      <th>cut</th>\n",
       "      <th>color</th>\n",
       "      <th>clarity</th>\n",
       "      <th>depth</th>\n",
       "      <th>table</th>\n",
       "      <th>x</th>\n",
       "      <th>y</th>\n",
       "      <th>z</th>\n",
       "      <th>price</th>\n",
       "    </tr>\n",
       "  </thead>\n",
       "  <tbody>\n",
       "    <tr>\n",
       "      <th>0</th>\n",
       "      <td>1</td>\n",
       "      <td>0.30</td>\n",
       "      <td>Ideal</td>\n",
       "      <td>E</td>\n",
       "      <td>SI1</td>\n",
       "      <td>62.1</td>\n",
       "      <td>58.0</td>\n",
       "      <td>4.27</td>\n",
       "      <td>4.29</td>\n",
       "      <td>2.66</td>\n",
       "      <td>499</td>\n",
       "    </tr>\n",
       "    <tr>\n",
       "      <th>1</th>\n",
       "      <td>2</td>\n",
       "      <td>0.33</td>\n",
       "      <td>Premium</td>\n",
       "      <td>G</td>\n",
       "      <td>IF</td>\n",
       "      <td>60.8</td>\n",
       "      <td>58.0</td>\n",
       "      <td>4.42</td>\n",
       "      <td>4.46</td>\n",
       "      <td>2.70</td>\n",
       "      <td>984</td>\n",
       "    </tr>\n",
       "    <tr>\n",
       "      <th>2</th>\n",
       "      <td>3</td>\n",
       "      <td>0.90</td>\n",
       "      <td>Very Good</td>\n",
       "      <td>E</td>\n",
       "      <td>VVS2</td>\n",
       "      <td>62.2</td>\n",
       "      <td>60.0</td>\n",
       "      <td>6.04</td>\n",
       "      <td>6.12</td>\n",
       "      <td>3.78</td>\n",
       "      <td>6289</td>\n",
       "    </tr>\n",
       "    <tr>\n",
       "      <th>3</th>\n",
       "      <td>4</td>\n",
       "      <td>0.42</td>\n",
       "      <td>Ideal</td>\n",
       "      <td>F</td>\n",
       "      <td>VS1</td>\n",
       "      <td>61.6</td>\n",
       "      <td>56.0</td>\n",
       "      <td>4.82</td>\n",
       "      <td>4.80</td>\n",
       "      <td>2.96</td>\n",
       "      <td>1082</td>\n",
       "    </tr>\n",
       "    <tr>\n",
       "      <th>4</th>\n",
       "      <td>5</td>\n",
       "      <td>0.31</td>\n",
       "      <td>Ideal</td>\n",
       "      <td>F</td>\n",
       "      <td>VVS1</td>\n",
       "      <td>60.4</td>\n",
       "      <td>59.0</td>\n",
       "      <td>4.35</td>\n",
       "      <td>4.43</td>\n",
       "      <td>2.65</td>\n",
       "      <td>779</td>\n",
       "    </tr>\n",
       "    <tr>\n",
       "      <th>...</th>\n",
       "      <td>...</td>\n",
       "      <td>...</td>\n",
       "      <td>...</td>\n",
       "      <td>...</td>\n",
       "      <td>...</td>\n",
       "      <td>...</td>\n",
       "      <td>...</td>\n",
       "      <td>...</td>\n",
       "      <td>...</td>\n",
       "      <td>...</td>\n",
       "      <td>...</td>\n",
       "    </tr>\n",
       "    <tr>\n",
       "      <th>26962</th>\n",
       "      <td>26963</td>\n",
       "      <td>1.11</td>\n",
       "      <td>Premium</td>\n",
       "      <td>G</td>\n",
       "      <td>SI1</td>\n",
       "      <td>62.3</td>\n",
       "      <td>58.0</td>\n",
       "      <td>6.61</td>\n",
       "      <td>6.52</td>\n",
       "      <td>4.09</td>\n",
       "      <td>5408</td>\n",
       "    </tr>\n",
       "    <tr>\n",
       "      <th>26963</th>\n",
       "      <td>26964</td>\n",
       "      <td>0.33</td>\n",
       "      <td>Ideal</td>\n",
       "      <td>H</td>\n",
       "      <td>IF</td>\n",
       "      <td>61.9</td>\n",
       "      <td>55.0</td>\n",
       "      <td>4.44</td>\n",
       "      <td>4.42</td>\n",
       "      <td>2.74</td>\n",
       "      <td>1114</td>\n",
       "    </tr>\n",
       "    <tr>\n",
       "      <th>26964</th>\n",
       "      <td>26965</td>\n",
       "      <td>0.51</td>\n",
       "      <td>Premium</td>\n",
       "      <td>E</td>\n",
       "      <td>VS2</td>\n",
       "      <td>61.7</td>\n",
       "      <td>58.0</td>\n",
       "      <td>5.12</td>\n",
       "      <td>5.15</td>\n",
       "      <td>3.17</td>\n",
       "      <td>1656</td>\n",
       "    </tr>\n",
       "    <tr>\n",
       "      <th>26965</th>\n",
       "      <td>26966</td>\n",
       "      <td>0.27</td>\n",
       "      <td>Very Good</td>\n",
       "      <td>F</td>\n",
       "      <td>VVS2</td>\n",
       "      <td>61.8</td>\n",
       "      <td>56.0</td>\n",
       "      <td>4.19</td>\n",
       "      <td>4.20</td>\n",
       "      <td>2.60</td>\n",
       "      <td>682</td>\n",
       "    </tr>\n",
       "    <tr>\n",
       "      <th>26966</th>\n",
       "      <td>26967</td>\n",
       "      <td>1.25</td>\n",
       "      <td>Premium</td>\n",
       "      <td>J</td>\n",
       "      <td>SI1</td>\n",
       "      <td>62.0</td>\n",
       "      <td>58.0</td>\n",
       "      <td>6.90</td>\n",
       "      <td>6.88</td>\n",
       "      <td>4.27</td>\n",
       "      <td>5166</td>\n",
       "    </tr>\n",
       "  </tbody>\n",
       "</table>\n",
       "<p>26967 rows × 11 columns</p>\n",
       "</div>"
      ],
      "text/plain": [
       "       Unnamed: 0  carat        cut color clarity  depth  table     x     y  \\\n",
       "0               1   0.30      Ideal     E     SI1   62.1   58.0  4.27  4.29   \n",
       "1               2   0.33    Premium     G      IF   60.8   58.0  4.42  4.46   \n",
       "2               3   0.90  Very Good     E    VVS2   62.2   60.0  6.04  6.12   \n",
       "3               4   0.42      Ideal     F     VS1   61.6   56.0  4.82  4.80   \n",
       "4               5   0.31      Ideal     F    VVS1   60.4   59.0  4.35  4.43   \n",
       "...           ...    ...        ...   ...     ...    ...    ...   ...   ...   \n",
       "26962       26963   1.11    Premium     G     SI1   62.3   58.0  6.61  6.52   \n",
       "26963       26964   0.33      Ideal     H      IF   61.9   55.0  4.44  4.42   \n",
       "26964       26965   0.51    Premium     E     VS2   61.7   58.0  5.12  5.15   \n",
       "26965       26966   0.27  Very Good     F    VVS2   61.8   56.0  4.19  4.20   \n",
       "26966       26967   1.25    Premium     J     SI1   62.0   58.0  6.90  6.88   \n",
       "\n",
       "          z  price  \n",
       "0      2.66    499  \n",
       "1      2.70    984  \n",
       "2      3.78   6289  \n",
       "3      2.96   1082  \n",
       "4      2.65    779  \n",
       "...     ...    ...  \n",
       "26962  4.09   5408  \n",
       "26963  2.74   1114  \n",
       "26964  3.17   1656  \n",
       "26965  2.60    682  \n",
       "26966  4.27   5166  \n",
       "\n",
       "[26967 rows x 11 columns]"
      ]
     },
     "execution_count": 5,
     "metadata": {},
     "output_type": "execute_result"
    }
   ],
   "source": [
    "df"
   ]
  },
  {
   "cell_type": "code",
   "execution_count": 6,
   "metadata": {},
   "outputs": [
    {
     "data": {
      "text/html": [
       "<div>\n",
       "<style scoped>\n",
       "    .dataframe tbody tr th:only-of-type {\n",
       "        vertical-align: middle;\n",
       "    }\n",
       "\n",
       "    .dataframe tbody tr th {\n",
       "        vertical-align: top;\n",
       "    }\n",
       "\n",
       "    .dataframe thead th {\n",
       "        text-align: right;\n",
       "    }\n",
       "</style>\n",
       "<table border=\"1\" class=\"dataframe\">\n",
       "  <thead>\n",
       "    <tr style=\"text-align: right;\">\n",
       "      <th></th>\n",
       "      <th>Unnamed: 0</th>\n",
       "      <th>carat</th>\n",
       "      <th>cut</th>\n",
       "      <th>color</th>\n",
       "      <th>clarity</th>\n",
       "      <th>depth</th>\n",
       "      <th>table</th>\n",
       "      <th>x</th>\n",
       "      <th>y</th>\n",
       "      <th>z</th>\n",
       "      <th>price</th>\n",
       "    </tr>\n",
       "  </thead>\n",
       "  <tbody>\n",
       "    <tr>\n",
       "      <th>0</th>\n",
       "      <td>1</td>\n",
       "      <td>0.30</td>\n",
       "      <td>Ideal</td>\n",
       "      <td>E</td>\n",
       "      <td>SI1</td>\n",
       "      <td>62.1</td>\n",
       "      <td>58.0</td>\n",
       "      <td>4.27</td>\n",
       "      <td>4.29</td>\n",
       "      <td>2.66</td>\n",
       "      <td>499</td>\n",
       "    </tr>\n",
       "    <tr>\n",
       "      <th>1</th>\n",
       "      <td>2</td>\n",
       "      <td>0.33</td>\n",
       "      <td>Premium</td>\n",
       "      <td>G</td>\n",
       "      <td>IF</td>\n",
       "      <td>60.8</td>\n",
       "      <td>58.0</td>\n",
       "      <td>4.42</td>\n",
       "      <td>4.46</td>\n",
       "      <td>2.70</td>\n",
       "      <td>984</td>\n",
       "    </tr>\n",
       "    <tr>\n",
       "      <th>2</th>\n",
       "      <td>3</td>\n",
       "      <td>0.90</td>\n",
       "      <td>Very Good</td>\n",
       "      <td>E</td>\n",
       "      <td>VVS2</td>\n",
       "      <td>62.2</td>\n",
       "      <td>60.0</td>\n",
       "      <td>6.04</td>\n",
       "      <td>6.12</td>\n",
       "      <td>3.78</td>\n",
       "      <td>6289</td>\n",
       "    </tr>\n",
       "    <tr>\n",
       "      <th>3</th>\n",
       "      <td>4</td>\n",
       "      <td>0.42</td>\n",
       "      <td>Ideal</td>\n",
       "      <td>F</td>\n",
       "      <td>VS1</td>\n",
       "      <td>61.6</td>\n",
       "      <td>56.0</td>\n",
       "      <td>4.82</td>\n",
       "      <td>4.80</td>\n",
       "      <td>2.96</td>\n",
       "      <td>1082</td>\n",
       "    </tr>\n",
       "    <tr>\n",
       "      <th>4</th>\n",
       "      <td>5</td>\n",
       "      <td>0.31</td>\n",
       "      <td>Ideal</td>\n",
       "      <td>F</td>\n",
       "      <td>VVS1</td>\n",
       "      <td>60.4</td>\n",
       "      <td>59.0</td>\n",
       "      <td>4.35</td>\n",
       "      <td>4.43</td>\n",
       "      <td>2.65</td>\n",
       "      <td>779</td>\n",
       "    </tr>\n",
       "  </tbody>\n",
       "</table>\n",
       "</div>"
      ],
      "text/plain": [
       "   Unnamed: 0  carat        cut color clarity  depth  table     x     y     z  \\\n",
       "0           1   0.30      Ideal     E     SI1   62.1   58.0  4.27  4.29  2.66   \n",
       "1           2   0.33    Premium     G      IF   60.8   58.0  4.42  4.46  2.70   \n",
       "2           3   0.90  Very Good     E    VVS2   62.2   60.0  6.04  6.12  3.78   \n",
       "3           4   0.42      Ideal     F     VS1   61.6   56.0  4.82  4.80  2.96   \n",
       "4           5   0.31      Ideal     F    VVS1   60.4   59.0  4.35  4.43  2.65   \n",
       "\n",
       "   price  \n",
       "0    499  \n",
       "1    984  \n",
       "2   6289  \n",
       "3   1082  \n",
       "4    779  "
      ]
     },
     "execution_count": 6,
     "metadata": {},
     "output_type": "execute_result"
    }
   ],
   "source": [
    "df.head()"
   ]
  },
  {
   "cell_type": "code",
   "execution_count": 7,
   "metadata": {},
   "outputs": [
    {
     "data": {
      "text/html": [
       "<div>\n",
       "<style scoped>\n",
       "    .dataframe tbody tr th:only-of-type {\n",
       "        vertical-align: middle;\n",
       "    }\n",
       "\n",
       "    .dataframe tbody tr th {\n",
       "        vertical-align: top;\n",
       "    }\n",
       "\n",
       "    .dataframe thead th {\n",
       "        text-align: right;\n",
       "    }\n",
       "</style>\n",
       "<table border=\"1\" class=\"dataframe\">\n",
       "  <thead>\n",
       "    <tr style=\"text-align: right;\">\n",
       "      <th></th>\n",
       "      <th>Unnamed: 0</th>\n",
       "      <th>carat</th>\n",
       "      <th>cut</th>\n",
       "      <th>color</th>\n",
       "      <th>clarity</th>\n",
       "      <th>depth</th>\n",
       "      <th>table</th>\n",
       "      <th>x</th>\n",
       "      <th>y</th>\n",
       "      <th>z</th>\n",
       "      <th>price</th>\n",
       "    </tr>\n",
       "  </thead>\n",
       "  <tbody>\n",
       "    <tr>\n",
       "      <th>26962</th>\n",
       "      <td>26963</td>\n",
       "      <td>1.11</td>\n",
       "      <td>Premium</td>\n",
       "      <td>G</td>\n",
       "      <td>SI1</td>\n",
       "      <td>62.3</td>\n",
       "      <td>58.0</td>\n",
       "      <td>6.61</td>\n",
       "      <td>6.52</td>\n",
       "      <td>4.09</td>\n",
       "      <td>5408</td>\n",
       "    </tr>\n",
       "    <tr>\n",
       "      <th>26963</th>\n",
       "      <td>26964</td>\n",
       "      <td>0.33</td>\n",
       "      <td>Ideal</td>\n",
       "      <td>H</td>\n",
       "      <td>IF</td>\n",
       "      <td>61.9</td>\n",
       "      <td>55.0</td>\n",
       "      <td>4.44</td>\n",
       "      <td>4.42</td>\n",
       "      <td>2.74</td>\n",
       "      <td>1114</td>\n",
       "    </tr>\n",
       "    <tr>\n",
       "      <th>26964</th>\n",
       "      <td>26965</td>\n",
       "      <td>0.51</td>\n",
       "      <td>Premium</td>\n",
       "      <td>E</td>\n",
       "      <td>VS2</td>\n",
       "      <td>61.7</td>\n",
       "      <td>58.0</td>\n",
       "      <td>5.12</td>\n",
       "      <td>5.15</td>\n",
       "      <td>3.17</td>\n",
       "      <td>1656</td>\n",
       "    </tr>\n",
       "    <tr>\n",
       "      <th>26965</th>\n",
       "      <td>26966</td>\n",
       "      <td>0.27</td>\n",
       "      <td>Very Good</td>\n",
       "      <td>F</td>\n",
       "      <td>VVS2</td>\n",
       "      <td>61.8</td>\n",
       "      <td>56.0</td>\n",
       "      <td>4.19</td>\n",
       "      <td>4.20</td>\n",
       "      <td>2.60</td>\n",
       "      <td>682</td>\n",
       "    </tr>\n",
       "    <tr>\n",
       "      <th>26966</th>\n",
       "      <td>26967</td>\n",
       "      <td>1.25</td>\n",
       "      <td>Premium</td>\n",
       "      <td>J</td>\n",
       "      <td>SI1</td>\n",
       "      <td>62.0</td>\n",
       "      <td>58.0</td>\n",
       "      <td>6.90</td>\n",
       "      <td>6.88</td>\n",
       "      <td>4.27</td>\n",
       "      <td>5166</td>\n",
       "    </tr>\n",
       "  </tbody>\n",
       "</table>\n",
       "</div>"
      ],
      "text/plain": [
       "       Unnamed: 0  carat        cut color clarity  depth  table     x     y  \\\n",
       "26962       26963   1.11    Premium     G     SI1   62.3   58.0  6.61  6.52   \n",
       "26963       26964   0.33      Ideal     H      IF   61.9   55.0  4.44  4.42   \n",
       "26964       26965   0.51    Premium     E     VS2   61.7   58.0  5.12  5.15   \n",
       "26965       26966   0.27  Very Good     F    VVS2   61.8   56.0  4.19  4.20   \n",
       "26966       26967   1.25    Premium     J     SI1   62.0   58.0  6.90  6.88   \n",
       "\n",
       "          z  price  \n",
       "26962  4.09   5408  \n",
       "26963  2.74   1114  \n",
       "26964  3.17   1656  \n",
       "26965  2.60    682  \n",
       "26966  4.27   5166  "
      ]
     },
     "execution_count": 7,
     "metadata": {},
     "output_type": "execute_result"
    }
   ],
   "source": [
    "df.tail()"
   ]
  },
  {
   "cell_type": "code",
   "execution_count": 8,
   "metadata": {},
   "outputs": [
    {
     "data": {
      "text/html": [
       "<div>\n",
       "<style scoped>\n",
       "    .dataframe tbody tr th:only-of-type {\n",
       "        vertical-align: middle;\n",
       "    }\n",
       "\n",
       "    .dataframe tbody tr th {\n",
       "        vertical-align: top;\n",
       "    }\n",
       "\n",
       "    .dataframe thead th {\n",
       "        text-align: right;\n",
       "    }\n",
       "</style>\n",
       "<table border=\"1\" class=\"dataframe\">\n",
       "  <thead>\n",
       "    <tr style=\"text-align: right;\">\n",
       "      <th></th>\n",
       "      <th>Unnamed: 0</th>\n",
       "      <th>carat</th>\n",
       "      <th>cut</th>\n",
       "      <th>color</th>\n",
       "      <th>clarity</th>\n",
       "      <th>depth</th>\n",
       "      <th>table</th>\n",
       "      <th>x</th>\n",
       "      <th>y</th>\n",
       "      <th>z</th>\n",
       "      <th>price</th>\n",
       "    </tr>\n",
       "  </thead>\n",
       "  <tbody>\n",
       "    <tr>\n",
       "      <th>5913</th>\n",
       "      <td>5914</td>\n",
       "      <td>1.08</td>\n",
       "      <td>Ideal</td>\n",
       "      <td>H</td>\n",
       "      <td>SI2</td>\n",
       "      <td>59.3</td>\n",
       "      <td>57.0</td>\n",
       "      <td>6.74</td>\n",
       "      <td>6.71</td>\n",
       "      <td>3.99</td>\n",
       "      <td>4536</td>\n",
       "    </tr>\n",
       "    <tr>\n",
       "      <th>26311</th>\n",
       "      <td>26312</td>\n",
       "      <td>0.34</td>\n",
       "      <td>Good</td>\n",
       "      <td>D</td>\n",
       "      <td>VVS1</td>\n",
       "      <td>57.4</td>\n",
       "      <td>62.0</td>\n",
       "      <td>4.67</td>\n",
       "      <td>4.71</td>\n",
       "      <td>2.69</td>\n",
       "      <td>957</td>\n",
       "    </tr>\n",
       "    <tr>\n",
       "      <th>11386</th>\n",
       "      <td>11387</td>\n",
       "      <td>0.70</td>\n",
       "      <td>Very Good</td>\n",
       "      <td>I</td>\n",
       "      <td>VVS1</td>\n",
       "      <td>62.9</td>\n",
       "      <td>58.0</td>\n",
       "      <td>5.65</td>\n",
       "      <td>5.67</td>\n",
       "      <td>3.56</td>\n",
       "      <td>2513</td>\n",
       "    </tr>\n",
       "    <tr>\n",
       "      <th>2829</th>\n",
       "      <td>2830</td>\n",
       "      <td>1.01</td>\n",
       "      <td>Ideal</td>\n",
       "      <td>H</td>\n",
       "      <td>SI1</td>\n",
       "      <td>61.2</td>\n",
       "      <td>57.0</td>\n",
       "      <td>6.42</td>\n",
       "      <td>6.47</td>\n",
       "      <td>3.95</td>\n",
       "      <td>5387</td>\n",
       "    </tr>\n",
       "    <tr>\n",
       "      <th>13174</th>\n",
       "      <td>13175</td>\n",
       "      <td>1.51</td>\n",
       "      <td>Very Good</td>\n",
       "      <td>J</td>\n",
       "      <td>SI2</td>\n",
       "      <td>61.9</td>\n",
       "      <td>59.0</td>\n",
       "      <td>7.26</td>\n",
       "      <td>7.31</td>\n",
       "      <td>4.51</td>\n",
       "      <td>6546</td>\n",
       "    </tr>\n",
       "  </tbody>\n",
       "</table>\n",
       "</div>"
      ],
      "text/plain": [
       "       Unnamed: 0  carat        cut color clarity  depth  table     x     y  \\\n",
       "5913         5914   1.08      Ideal     H     SI2   59.3   57.0  6.74  6.71   \n",
       "26311       26312   0.34       Good     D    VVS1   57.4   62.0  4.67  4.71   \n",
       "11386       11387   0.70  Very Good     I    VVS1   62.9   58.0  5.65  5.67   \n",
       "2829         2830   1.01      Ideal     H     SI1   61.2   57.0  6.42  6.47   \n",
       "13174       13175   1.51  Very Good     J     SI2   61.9   59.0  7.26  7.31   \n",
       "\n",
       "          z  price  \n",
       "5913   3.99   4536  \n",
       "26311  2.69    957  \n",
       "11386  3.56   2513  \n",
       "2829   3.95   5387  \n",
       "13174  4.51   6546  "
      ]
     },
     "execution_count": 8,
     "metadata": {},
     "output_type": "execute_result"
    }
   ],
   "source": [
    "# collect 5 samples of the data\n",
    "df.sample(5)\n"
   ]
  },
  {
   "cell_type": "code",
   "execution_count": 9,
   "metadata": {},
   "outputs": [
    {
     "data": {
      "text/plain": [
       "<bound method DataFrame.isnull of        Unnamed: 0  carat        cut color clarity  depth  table     x     y  \\\n",
       "0               1   0.30      Ideal     E     SI1   62.1   58.0  4.27  4.29   \n",
       "1               2   0.33    Premium     G      IF   60.8   58.0  4.42  4.46   \n",
       "2               3   0.90  Very Good     E    VVS2   62.2   60.0  6.04  6.12   \n",
       "3               4   0.42      Ideal     F     VS1   61.6   56.0  4.82  4.80   \n",
       "4               5   0.31      Ideal     F    VVS1   60.4   59.0  4.35  4.43   \n",
       "...           ...    ...        ...   ...     ...    ...    ...   ...   ...   \n",
       "26962       26963   1.11    Premium     G     SI1   62.3   58.0  6.61  6.52   \n",
       "26963       26964   0.33      Ideal     H      IF   61.9   55.0  4.44  4.42   \n",
       "26964       26965   0.51    Premium     E     VS2   61.7   58.0  5.12  5.15   \n",
       "26965       26966   0.27  Very Good     F    VVS2   61.8   56.0  4.19  4.20   \n",
       "26966       26967   1.25    Premium     J     SI1   62.0   58.0  6.90  6.88   \n",
       "\n",
       "          z  price  \n",
       "0      2.66    499  \n",
       "1      2.70    984  \n",
       "2      3.78   6289  \n",
       "3      2.96   1082  \n",
       "4      2.65    779  \n",
       "...     ...    ...  \n",
       "26962  4.09   5408  \n",
       "26963  2.74   1114  \n",
       "26964  3.17   1656  \n",
       "26965  2.60    682  \n",
       "26966  4.27   5166  \n",
       "\n",
       "[26967 rows x 11 columns]>"
      ]
     },
     "execution_count": 9,
     "metadata": {},
     "output_type": "execute_result"
    }
   ],
   "source": [
    "# cheaking the missing value \n",
    "df.isnull"
   ]
  },
  {
   "cell_type": "code",
   "execution_count": 10,
   "metadata": {},
   "outputs": [
    {
     "data": {
      "text/plain": [
       "Unnamed: 0      0\n",
       "carat           0\n",
       "cut             0\n",
       "color           0\n",
       "clarity         0\n",
       "depth         697\n",
       "table           0\n",
       "x               0\n",
       "y               0\n",
       "z               0\n",
       "price           0\n",
       "dtype: int64"
      ]
     },
     "execution_count": 10,
     "metadata": {},
     "output_type": "execute_result"
    }
   ],
   "source": [
    "df.isnull().sum()"
   ]
  },
  {
   "cell_type": "code",
   "execution_count": 11,
   "metadata": {},
   "outputs": [
    {
     "data": {
      "text/plain": [
       "296637"
      ]
     },
     "execution_count": 11,
     "metadata": {},
     "output_type": "execute_result"
    }
   ],
   "source": [
    "# handling the missing values\n",
    "df.size\n",
    "\n",
    "\n"
   ]
  },
  {
   "cell_type": "code",
   "execution_count": 12,
   "metadata": {},
   "outputs": [
    {
     "data": {
      "text/plain": [
       "(26967, 11)"
      ]
     },
     "execution_count": 12,
     "metadata": {},
     "output_type": "execute_result"
    }
   ],
   "source": [
    "df.shape"
   ]
  },
  {
   "cell_type": "code",
   "execution_count": 13,
   "metadata": {},
   "outputs": [],
   "source": [
    "# droping the value and also can handels by using the statisticals term\n",
    "df=df.dropna()"
   ]
  },
  {
   "cell_type": "code",
   "execution_count": 14,
   "metadata": {},
   "outputs": [
    {
     "data": {
      "text/plain": [
       "Unnamed: 0    0\n",
       "carat         0\n",
       "cut           0\n",
       "color         0\n",
       "clarity       0\n",
       "depth         0\n",
       "table         0\n",
       "x             0\n",
       "y             0\n",
       "z             0\n",
       "price         0\n",
       "dtype: int64"
      ]
     },
     "execution_count": 14,
     "metadata": {},
     "output_type": "execute_result"
    }
   ],
   "source": [
    "df.isnull().sum()"
   ]
  },
  {
   "cell_type": "code",
   "execution_count": 15,
   "metadata": {},
   "outputs": [
    {
     "data": {
      "text/html": [
       "<div>\n",
       "<style scoped>\n",
       "    .dataframe tbody tr th:only-of-type {\n",
       "        vertical-align: middle;\n",
       "    }\n",
       "\n",
       "    .dataframe tbody tr th {\n",
       "        vertical-align: top;\n",
       "    }\n",
       "\n",
       "    .dataframe thead th {\n",
       "        text-align: right;\n",
       "    }\n",
       "</style>\n",
       "<table border=\"1\" class=\"dataframe\">\n",
       "  <thead>\n",
       "    <tr style=\"text-align: right;\">\n",
       "      <th></th>\n",
       "      <th>Unnamed: 0</th>\n",
       "      <th>carat</th>\n",
       "      <th>depth</th>\n",
       "      <th>table</th>\n",
       "      <th>x</th>\n",
       "      <th>y</th>\n",
       "      <th>z</th>\n",
       "      <th>price</th>\n",
       "    </tr>\n",
       "  </thead>\n",
       "  <tbody>\n",
       "    <tr>\n",
       "      <th>count</th>\n",
       "      <td>26270.000000</td>\n",
       "      <td>26270.000000</td>\n",
       "      <td>26270.000000</td>\n",
       "      <td>26270.000000</td>\n",
       "      <td>26270.000000</td>\n",
       "      <td>26270.000000</td>\n",
       "      <td>26270.000000</td>\n",
       "      <td>26270.000000</td>\n",
       "    </tr>\n",
       "    <tr>\n",
       "      <th>mean</th>\n",
       "      <td>13487.106509</td>\n",
       "      <td>0.797995</td>\n",
       "      <td>61.745147</td>\n",
       "      <td>57.456011</td>\n",
       "      <td>5.729167</td>\n",
       "      <td>5.732967</td>\n",
       "      <td>3.536636</td>\n",
       "      <td>3937.973734</td>\n",
       "    </tr>\n",
       "    <tr>\n",
       "      <th>std</th>\n",
       "      <td>7782.720039</td>\n",
       "      <td>0.477214</td>\n",
       "      <td>1.412860</td>\n",
       "      <td>2.230776</td>\n",
       "      <td>1.127515</td>\n",
       "      <td>1.166330</td>\n",
       "      <td>0.699335</td>\n",
       "      <td>4022.189341</td>\n",
       "    </tr>\n",
       "    <tr>\n",
       "      <th>min</th>\n",
       "      <td>1.000000</td>\n",
       "      <td>0.200000</td>\n",
       "      <td>50.800000</td>\n",
       "      <td>49.000000</td>\n",
       "      <td>0.000000</td>\n",
       "      <td>0.000000</td>\n",
       "      <td>0.000000</td>\n",
       "      <td>326.000000</td>\n",
       "    </tr>\n",
       "    <tr>\n",
       "      <th>25%</th>\n",
       "      <td>6741.250000</td>\n",
       "      <td>0.400000</td>\n",
       "      <td>61.000000</td>\n",
       "      <td>56.000000</td>\n",
       "      <td>4.710000</td>\n",
       "      <td>4.720000</td>\n",
       "      <td>2.900000</td>\n",
       "      <td>945.000000</td>\n",
       "    </tr>\n",
       "    <tr>\n",
       "      <th>50%</th>\n",
       "      <td>13497.500000</td>\n",
       "      <td>0.700000</td>\n",
       "      <td>61.800000</td>\n",
       "      <td>57.000000</td>\n",
       "      <td>5.690000</td>\n",
       "      <td>5.700000</td>\n",
       "      <td>3.520000</td>\n",
       "      <td>2375.000000</td>\n",
       "    </tr>\n",
       "    <tr>\n",
       "      <th>75%</th>\n",
       "      <td>20223.750000</td>\n",
       "      <td>1.050000</td>\n",
       "      <td>62.500000</td>\n",
       "      <td>59.000000</td>\n",
       "      <td>6.550000</td>\n",
       "      <td>6.540000</td>\n",
       "      <td>4.040000</td>\n",
       "      <td>5361.000000</td>\n",
       "    </tr>\n",
       "    <tr>\n",
       "      <th>max</th>\n",
       "      <td>26967.000000</td>\n",
       "      <td>4.500000</td>\n",
       "      <td>73.600000</td>\n",
       "      <td>79.000000</td>\n",
       "      <td>10.230000</td>\n",
       "      <td>58.900000</td>\n",
       "      <td>8.060000</td>\n",
       "      <td>18818.000000</td>\n",
       "    </tr>\n",
       "  </tbody>\n",
       "</table>\n",
       "</div>"
      ],
      "text/plain": [
       "         Unnamed: 0         carat         depth         table             x  \\\n",
       "count  26270.000000  26270.000000  26270.000000  26270.000000  26270.000000   \n",
       "mean   13487.106509      0.797995     61.745147     57.456011      5.729167   \n",
       "std     7782.720039      0.477214      1.412860      2.230776      1.127515   \n",
       "min        1.000000      0.200000     50.800000     49.000000      0.000000   \n",
       "25%     6741.250000      0.400000     61.000000     56.000000      4.710000   \n",
       "50%    13497.500000      0.700000     61.800000     57.000000      5.690000   \n",
       "75%    20223.750000      1.050000     62.500000     59.000000      6.550000   \n",
       "max    26967.000000      4.500000     73.600000     79.000000     10.230000   \n",
       "\n",
       "                  y             z         price  \n",
       "count  26270.000000  26270.000000  26270.000000  \n",
       "mean       5.732967      3.536636   3937.973734  \n",
       "std        1.166330      0.699335   4022.189341  \n",
       "min        0.000000      0.000000    326.000000  \n",
       "25%        4.720000      2.900000    945.000000  \n",
       "50%        5.700000      3.520000   2375.000000  \n",
       "75%        6.540000      4.040000   5361.000000  \n",
       "max       58.900000      8.060000  18818.000000  "
      ]
     },
     "execution_count": 15,
     "metadata": {},
     "output_type": "execute_result"
    }
   ],
   "source": [
    "df.describe()"
   ]
  },
  {
   "cell_type": "code",
   "execution_count": 16,
   "metadata": {},
   "outputs": [
    {
     "name": "stdout",
     "output_type": "stream",
     "text": [
      "<class 'pandas.core.frame.DataFrame'>\n",
      "Index: 26270 entries, 0 to 26966\n",
      "Data columns (total 11 columns):\n",
      " #   Column      Non-Null Count  Dtype  \n",
      "---  ------      --------------  -----  \n",
      " 0   Unnamed: 0  26270 non-null  int64  \n",
      " 1   carat       26270 non-null  float64\n",
      " 2   cut         26270 non-null  object \n",
      " 3   color       26270 non-null  object \n",
      " 4   clarity     26270 non-null  object \n",
      " 5   depth       26270 non-null  float64\n",
      " 6   table       26270 non-null  float64\n",
      " 7   x           26270 non-null  float64\n",
      " 8   y           26270 non-null  float64\n",
      " 9   z           26270 non-null  float64\n",
      " 10  price       26270 non-null  int64  \n",
      "dtypes: float64(6), int64(2), object(3)\n",
      "memory usage: 2.4+ MB\n"
     ]
    }
   ],
   "source": [
    "df.info()"
   ]
  },
  {
   "cell_type": "code",
   "execution_count": 17,
   "metadata": {},
   "outputs": [
    {
     "data": {
      "text/plain": [
       "Unnamed: 0      int64\n",
       "carat         float64\n",
       "cut            object\n",
       "color          object\n",
       "clarity        object\n",
       "depth         float64\n",
       "table         float64\n",
       "x             float64\n",
       "y             float64\n",
       "z             float64\n",
       "price           int64\n",
       "dtype: object"
      ]
     },
     "execution_count": 17,
     "metadata": {},
     "output_type": "execute_result"
    }
   ],
   "source": [
    "# cheaking the data type cat and num \n",
    "df.dtypes"
   ]
  },
  {
   "cell_type": "code",
   "execution_count": 18,
   "metadata": {},
   "outputs": [],
   "source": [
    "df=df.drop(labels=\"Unnamed: 0\",axis=1)"
   ]
  },
  {
   "cell_type": "code",
   "execution_count": 19,
   "metadata": {},
   "outputs": [
    {
     "data": {
      "text/html": [
       "<div>\n",
       "<style scoped>\n",
       "    .dataframe tbody tr th:only-of-type {\n",
       "        vertical-align: middle;\n",
       "    }\n",
       "\n",
       "    .dataframe tbody tr th {\n",
       "        vertical-align: top;\n",
       "    }\n",
       "\n",
       "    .dataframe thead th {\n",
       "        text-align: right;\n",
       "    }\n",
       "</style>\n",
       "<table border=\"1\" class=\"dataframe\">\n",
       "  <thead>\n",
       "    <tr style=\"text-align: right;\">\n",
       "      <th></th>\n",
       "      <th>carat</th>\n",
       "      <th>cut</th>\n",
       "      <th>color</th>\n",
       "      <th>clarity</th>\n",
       "      <th>depth</th>\n",
       "      <th>table</th>\n",
       "      <th>x</th>\n",
       "      <th>y</th>\n",
       "      <th>z</th>\n",
       "      <th>price</th>\n",
       "    </tr>\n",
       "  </thead>\n",
       "  <tbody>\n",
       "    <tr>\n",
       "      <th>0</th>\n",
       "      <td>0.30</td>\n",
       "      <td>Ideal</td>\n",
       "      <td>E</td>\n",
       "      <td>SI1</td>\n",
       "      <td>62.1</td>\n",
       "      <td>58.0</td>\n",
       "      <td>4.27</td>\n",
       "      <td>4.29</td>\n",
       "      <td>2.66</td>\n",
       "      <td>499</td>\n",
       "    </tr>\n",
       "    <tr>\n",
       "      <th>1</th>\n",
       "      <td>0.33</td>\n",
       "      <td>Premium</td>\n",
       "      <td>G</td>\n",
       "      <td>IF</td>\n",
       "      <td>60.8</td>\n",
       "      <td>58.0</td>\n",
       "      <td>4.42</td>\n",
       "      <td>4.46</td>\n",
       "      <td>2.70</td>\n",
       "      <td>984</td>\n",
       "    </tr>\n",
       "    <tr>\n",
       "      <th>2</th>\n",
       "      <td>0.90</td>\n",
       "      <td>Very Good</td>\n",
       "      <td>E</td>\n",
       "      <td>VVS2</td>\n",
       "      <td>62.2</td>\n",
       "      <td>60.0</td>\n",
       "      <td>6.04</td>\n",
       "      <td>6.12</td>\n",
       "      <td>3.78</td>\n",
       "      <td>6289</td>\n",
       "    </tr>\n",
       "    <tr>\n",
       "      <th>3</th>\n",
       "      <td>0.42</td>\n",
       "      <td>Ideal</td>\n",
       "      <td>F</td>\n",
       "      <td>VS1</td>\n",
       "      <td>61.6</td>\n",
       "      <td>56.0</td>\n",
       "      <td>4.82</td>\n",
       "      <td>4.80</td>\n",
       "      <td>2.96</td>\n",
       "      <td>1082</td>\n",
       "    </tr>\n",
       "    <tr>\n",
       "      <th>4</th>\n",
       "      <td>0.31</td>\n",
       "      <td>Ideal</td>\n",
       "      <td>F</td>\n",
       "      <td>VVS1</td>\n",
       "      <td>60.4</td>\n",
       "      <td>59.0</td>\n",
       "      <td>4.35</td>\n",
       "      <td>4.43</td>\n",
       "      <td>2.65</td>\n",
       "      <td>779</td>\n",
       "    </tr>\n",
       "    <tr>\n",
       "      <th>...</th>\n",
       "      <td>...</td>\n",
       "      <td>...</td>\n",
       "      <td>...</td>\n",
       "      <td>...</td>\n",
       "      <td>...</td>\n",
       "      <td>...</td>\n",
       "      <td>...</td>\n",
       "      <td>...</td>\n",
       "      <td>...</td>\n",
       "      <td>...</td>\n",
       "    </tr>\n",
       "    <tr>\n",
       "      <th>26962</th>\n",
       "      <td>1.11</td>\n",
       "      <td>Premium</td>\n",
       "      <td>G</td>\n",
       "      <td>SI1</td>\n",
       "      <td>62.3</td>\n",
       "      <td>58.0</td>\n",
       "      <td>6.61</td>\n",
       "      <td>6.52</td>\n",
       "      <td>4.09</td>\n",
       "      <td>5408</td>\n",
       "    </tr>\n",
       "    <tr>\n",
       "      <th>26963</th>\n",
       "      <td>0.33</td>\n",
       "      <td>Ideal</td>\n",
       "      <td>H</td>\n",
       "      <td>IF</td>\n",
       "      <td>61.9</td>\n",
       "      <td>55.0</td>\n",
       "      <td>4.44</td>\n",
       "      <td>4.42</td>\n",
       "      <td>2.74</td>\n",
       "      <td>1114</td>\n",
       "    </tr>\n",
       "    <tr>\n",
       "      <th>26964</th>\n",
       "      <td>0.51</td>\n",
       "      <td>Premium</td>\n",
       "      <td>E</td>\n",
       "      <td>VS2</td>\n",
       "      <td>61.7</td>\n",
       "      <td>58.0</td>\n",
       "      <td>5.12</td>\n",
       "      <td>5.15</td>\n",
       "      <td>3.17</td>\n",
       "      <td>1656</td>\n",
       "    </tr>\n",
       "    <tr>\n",
       "      <th>26965</th>\n",
       "      <td>0.27</td>\n",
       "      <td>Very Good</td>\n",
       "      <td>F</td>\n",
       "      <td>VVS2</td>\n",
       "      <td>61.8</td>\n",
       "      <td>56.0</td>\n",
       "      <td>4.19</td>\n",
       "      <td>4.20</td>\n",
       "      <td>2.60</td>\n",
       "      <td>682</td>\n",
       "    </tr>\n",
       "    <tr>\n",
       "      <th>26966</th>\n",
       "      <td>1.25</td>\n",
       "      <td>Premium</td>\n",
       "      <td>J</td>\n",
       "      <td>SI1</td>\n",
       "      <td>62.0</td>\n",
       "      <td>58.0</td>\n",
       "      <td>6.90</td>\n",
       "      <td>6.88</td>\n",
       "      <td>4.27</td>\n",
       "      <td>5166</td>\n",
       "    </tr>\n",
       "  </tbody>\n",
       "</table>\n",
       "<p>26270 rows × 10 columns</p>\n",
       "</div>"
      ],
      "text/plain": [
       "       carat        cut color clarity  depth  table     x     y     z  price\n",
       "0       0.30      Ideal     E     SI1   62.1   58.0  4.27  4.29  2.66    499\n",
       "1       0.33    Premium     G      IF   60.8   58.0  4.42  4.46  2.70    984\n",
       "2       0.90  Very Good     E    VVS2   62.2   60.0  6.04  6.12  3.78   6289\n",
       "3       0.42      Ideal     F     VS1   61.6   56.0  4.82  4.80  2.96   1082\n",
       "4       0.31      Ideal     F    VVS1   60.4   59.0  4.35  4.43  2.65    779\n",
       "...      ...        ...   ...     ...    ...    ...   ...   ...   ...    ...\n",
       "26962   1.11    Premium     G     SI1   62.3   58.0  6.61  6.52  4.09   5408\n",
       "26963   0.33      Ideal     H      IF   61.9   55.0  4.44  4.42  2.74   1114\n",
       "26964   0.51    Premium     E     VS2   61.7   58.0  5.12  5.15  3.17   1656\n",
       "26965   0.27  Very Good     F    VVS2   61.8   56.0  4.19  4.20  2.60    682\n",
       "26966   1.25    Premium     J     SI1   62.0   58.0  6.90  6.88  4.27   5166\n",
       "\n",
       "[26270 rows x 10 columns]"
      ]
     },
     "execution_count": 19,
     "metadata": {},
     "output_type": "execute_result"
    }
   ],
   "source": [
    "df"
   ]
  },
  {
   "cell_type": "code",
   "execution_count": 20,
   "metadata": {},
   "outputs": [],
   "source": [
    "# cat and num columns\n",
    "\n",
    "categorical_columns=df.columns[df.dtypes==\"object\"]"
   ]
  },
  {
   "cell_type": "code",
   "execution_count": 21,
   "metadata": {},
   "outputs": [],
   "source": [
    "numerical_columns=df.columns[df.dtypes!=\"object\"]"
   ]
  },
  {
   "cell_type": "code",
   "execution_count": 22,
   "metadata": {},
   "outputs": [
    {
     "data": {
      "text/plain": [
       "Index(['cut', 'color', 'clarity'], dtype='object')"
      ]
     },
     "execution_count": 22,
     "metadata": {},
     "output_type": "execute_result"
    }
   ],
   "source": [
    "categorical_columns"
   ]
  },
  {
   "cell_type": "code",
   "execution_count": 23,
   "metadata": {},
   "outputs": [
    {
     "data": {
      "text/plain": [
       "Index(['carat', 'depth', 'table', 'x', 'y', 'z', 'price'], dtype='object')"
      ]
     },
     "execution_count": 23,
     "metadata": {},
     "output_type": "execute_result"
    }
   ],
   "source": [
    "numerical_columns\n"
   ]
  },
  {
   "cell_type": "code",
   "execution_count": null,
   "metadata": {},
   "outputs": [],
   "source": []
  },
  {
   "cell_type": "code",
   "execution_count": null,
   "metadata": {},
   "outputs": [],
   "source": []
  },
  {
   "cell_type": "code",
   "execution_count": 24,
   "metadata": {},
   "outputs": [
    {
     "data": {
      "text/html": [
       "<div>\n",
       "<style scoped>\n",
       "    .dataframe tbody tr th:only-of-type {\n",
       "        vertical-align: middle;\n",
       "    }\n",
       "\n",
       "    .dataframe tbody tr th {\n",
       "        vertical-align: top;\n",
       "    }\n",
       "\n",
       "    .dataframe thead th {\n",
       "        text-align: right;\n",
       "    }\n",
       "</style>\n",
       "<table border=\"1\" class=\"dataframe\">\n",
       "  <thead>\n",
       "    <tr style=\"text-align: right;\">\n",
       "      <th></th>\n",
       "      <th>carat</th>\n",
       "      <th>cut</th>\n",
       "      <th>color</th>\n",
       "      <th>clarity</th>\n",
       "      <th>depth</th>\n",
       "      <th>table</th>\n",
       "      <th>x</th>\n",
       "      <th>y</th>\n",
       "      <th>z</th>\n",
       "      <th>price</th>\n",
       "    </tr>\n",
       "  </thead>\n",
       "  <tbody>\n",
       "    <tr>\n",
       "      <th>0</th>\n",
       "      <td>0.30</td>\n",
       "      <td>Ideal</td>\n",
       "      <td>E</td>\n",
       "      <td>SI1</td>\n",
       "      <td>62.1</td>\n",
       "      <td>58.0</td>\n",
       "      <td>4.27</td>\n",
       "      <td>4.29</td>\n",
       "      <td>2.66</td>\n",
       "      <td>499</td>\n",
       "    </tr>\n",
       "    <tr>\n",
       "      <th>1</th>\n",
       "      <td>0.33</td>\n",
       "      <td>Premium</td>\n",
       "      <td>G</td>\n",
       "      <td>IF</td>\n",
       "      <td>60.8</td>\n",
       "      <td>58.0</td>\n",
       "      <td>4.42</td>\n",
       "      <td>4.46</td>\n",
       "      <td>2.70</td>\n",
       "      <td>984</td>\n",
       "    </tr>\n",
       "    <tr>\n",
       "      <th>2</th>\n",
       "      <td>0.90</td>\n",
       "      <td>Very Good</td>\n",
       "      <td>E</td>\n",
       "      <td>VVS2</td>\n",
       "      <td>62.2</td>\n",
       "      <td>60.0</td>\n",
       "      <td>6.04</td>\n",
       "      <td>6.12</td>\n",
       "      <td>3.78</td>\n",
       "      <td>6289</td>\n",
       "    </tr>\n",
       "    <tr>\n",
       "      <th>3</th>\n",
       "      <td>0.42</td>\n",
       "      <td>Ideal</td>\n",
       "      <td>F</td>\n",
       "      <td>VS1</td>\n",
       "      <td>61.6</td>\n",
       "      <td>56.0</td>\n",
       "      <td>4.82</td>\n",
       "      <td>4.80</td>\n",
       "      <td>2.96</td>\n",
       "      <td>1082</td>\n",
       "    </tr>\n",
       "    <tr>\n",
       "      <th>4</th>\n",
       "      <td>0.31</td>\n",
       "      <td>Ideal</td>\n",
       "      <td>F</td>\n",
       "      <td>VVS1</td>\n",
       "      <td>60.4</td>\n",
       "      <td>59.0</td>\n",
       "      <td>4.35</td>\n",
       "      <td>4.43</td>\n",
       "      <td>2.65</td>\n",
       "      <td>779</td>\n",
       "    </tr>\n",
       "  </tbody>\n",
       "</table>\n",
       "</div>"
      ],
      "text/plain": [
       "   carat        cut color clarity  depth  table     x     y     z  price\n",
       "0   0.30      Ideal     E     SI1   62.1   58.0  4.27  4.29  2.66    499\n",
       "1   0.33    Premium     G      IF   60.8   58.0  4.42  4.46  2.70    984\n",
       "2   0.90  Very Good     E    VVS2   62.2   60.0  6.04  6.12  3.78   6289\n",
       "3   0.42      Ideal     F     VS1   61.6   56.0  4.82  4.80  2.96   1082\n",
       "4   0.31      Ideal     F    VVS1   60.4   59.0  4.35  4.43  2.65    779"
      ]
     },
     "execution_count": 24,
     "metadata": {},
     "output_type": "execute_result"
    }
   ],
   "source": [
    "df.head()"
   ]
  },
  {
   "cell_type": "code",
   "execution_count": null,
   "metadata": {},
   "outputs": [],
   "source": []
  },
  {
   "cell_type": "code",
   "execution_count": 25,
   "metadata": {},
   "outputs": [
    {
     "data": {
      "text/plain": [
       "34"
      ]
     },
     "execution_count": 25,
     "metadata": {},
     "output_type": "execute_result"
    }
   ],
   "source": [
    "# cheaking the duplicated value\n",
    "df.duplicated().sum()"
   ]
  },
  {
   "cell_type": "code",
   "execution_count": 26,
   "metadata": {},
   "outputs": [
    {
     "name": "stdout",
     "output_type": "stream",
     "text": [
      "<class 'pandas.core.frame.DataFrame'>\n",
      "Index: 26270 entries, 0 to 26966\n",
      "Data columns (total 10 columns):\n",
      " #   Column   Non-Null Count  Dtype  \n",
      "---  ------   --------------  -----  \n",
      " 0   carat    26270 non-null  float64\n",
      " 1   cut      26270 non-null  object \n",
      " 2   color    26270 non-null  object \n",
      " 3   clarity  26270 non-null  object \n",
      " 4   depth    26270 non-null  float64\n",
      " 5   table    26270 non-null  float64\n",
      " 6   x        26270 non-null  float64\n",
      " 7   y        26270 non-null  float64\n",
      " 8   z        26270 non-null  float64\n",
      " 9   price    26270 non-null  int64  \n",
      "dtypes: float64(6), int64(1), object(3)\n",
      "memory usage: 2.2+ MB\n"
     ]
    }
   ],
   "source": [
    "df.info()"
   ]
  },
  {
   "cell_type": "code",
   "execution_count": 27,
   "metadata": {},
   "outputs": [
    {
     "data": {
      "text/plain": [
       "34"
      ]
     },
     "execution_count": 27,
     "metadata": {},
     "output_type": "execute_result"
    }
   ],
   "source": [
    "df.duplicated().sum()"
   ]
  },
  {
   "cell_type": "code",
   "execution_count": 28,
   "metadata": {},
   "outputs": [],
   "source": [
    "df=df.drop_duplicates()"
   ]
  },
  {
   "cell_type": "code",
   "execution_count": 29,
   "metadata": {},
   "outputs": [
    {
     "data": {
      "text/plain": [
       "0"
      ]
     },
     "execution_count": 29,
     "metadata": {},
     "output_type": "execute_result"
    }
   ],
   "source": [
    "df.duplicated().sum()"
   ]
  },
  {
   "cell_type": "code",
   "execution_count": 30,
   "metadata": {},
   "outputs": [
    {
     "data": {
      "text/html": [
       "<div>\n",
       "<style scoped>\n",
       "    .dataframe tbody tr th:only-of-type {\n",
       "        vertical-align: middle;\n",
       "    }\n",
       "\n",
       "    .dataframe tbody tr th {\n",
       "        vertical-align: top;\n",
       "    }\n",
       "\n",
       "    .dataframe thead th {\n",
       "        text-align: right;\n",
       "    }\n",
       "</style>\n",
       "<table border=\"1\" class=\"dataframe\">\n",
       "  <thead>\n",
       "    <tr style=\"text-align: right;\">\n",
       "      <th></th>\n",
       "      <th>cut</th>\n",
       "      <th>color</th>\n",
       "      <th>clarity</th>\n",
       "    </tr>\n",
       "  </thead>\n",
       "  <tbody>\n",
       "    <tr>\n",
       "      <th>0</th>\n",
       "      <td>Ideal</td>\n",
       "      <td>E</td>\n",
       "      <td>SI1</td>\n",
       "    </tr>\n",
       "    <tr>\n",
       "      <th>1</th>\n",
       "      <td>Premium</td>\n",
       "      <td>G</td>\n",
       "      <td>IF</td>\n",
       "    </tr>\n",
       "    <tr>\n",
       "      <th>2</th>\n",
       "      <td>Very Good</td>\n",
       "      <td>E</td>\n",
       "      <td>VVS2</td>\n",
       "    </tr>\n",
       "    <tr>\n",
       "      <th>3</th>\n",
       "      <td>Ideal</td>\n",
       "      <td>F</td>\n",
       "      <td>VS1</td>\n",
       "    </tr>\n",
       "    <tr>\n",
       "      <th>4</th>\n",
       "      <td>Ideal</td>\n",
       "      <td>F</td>\n",
       "      <td>VVS1</td>\n",
       "    </tr>\n",
       "    <tr>\n",
       "      <th>...</th>\n",
       "      <td>...</td>\n",
       "      <td>...</td>\n",
       "      <td>...</td>\n",
       "    </tr>\n",
       "    <tr>\n",
       "      <th>26962</th>\n",
       "      <td>Premium</td>\n",
       "      <td>G</td>\n",
       "      <td>SI1</td>\n",
       "    </tr>\n",
       "    <tr>\n",
       "      <th>26963</th>\n",
       "      <td>Ideal</td>\n",
       "      <td>H</td>\n",
       "      <td>IF</td>\n",
       "    </tr>\n",
       "    <tr>\n",
       "      <th>26964</th>\n",
       "      <td>Premium</td>\n",
       "      <td>E</td>\n",
       "      <td>VS2</td>\n",
       "    </tr>\n",
       "    <tr>\n",
       "      <th>26965</th>\n",
       "      <td>Very Good</td>\n",
       "      <td>F</td>\n",
       "      <td>VVS2</td>\n",
       "    </tr>\n",
       "    <tr>\n",
       "      <th>26966</th>\n",
       "      <td>Premium</td>\n",
       "      <td>J</td>\n",
       "      <td>SI1</td>\n",
       "    </tr>\n",
       "  </tbody>\n",
       "</table>\n",
       "<p>26236 rows × 3 columns</p>\n",
       "</div>"
      ],
      "text/plain": [
       "             cut color clarity\n",
       "0          Ideal     E     SI1\n",
       "1        Premium     G      IF\n",
       "2      Very Good     E    VVS2\n",
       "3          Ideal     F     VS1\n",
       "4          Ideal     F    VVS1\n",
       "...          ...   ...     ...\n",
       "26962    Premium     G     SI1\n",
       "26963      Ideal     H      IF\n",
       "26964    Premium     E     VS2\n",
       "26965  Very Good     F    VVS2\n",
       "26966    Premium     J     SI1\n",
       "\n",
       "[26236 rows x 3 columns]"
      ]
     },
     "execution_count": 30,
     "metadata": {},
     "output_type": "execute_result"
    }
   ],
   "source": [
    "df[categorical_columns]"
   ]
  },
  {
   "cell_type": "code",
   "execution_count": 31,
   "metadata": {},
   "outputs": [
    {
     "data": {
      "text/html": [
       "<div>\n",
       "<style scoped>\n",
       "    .dataframe tbody tr th:only-of-type {\n",
       "        vertical-align: middle;\n",
       "    }\n",
       "\n",
       "    .dataframe tbody tr th {\n",
       "        vertical-align: top;\n",
       "    }\n",
       "\n",
       "    .dataframe thead th {\n",
       "        text-align: right;\n",
       "    }\n",
       "</style>\n",
       "<table border=\"1\" class=\"dataframe\">\n",
       "  <thead>\n",
       "    <tr style=\"text-align: right;\">\n",
       "      <th></th>\n",
       "      <th>carat</th>\n",
       "      <th>depth</th>\n",
       "      <th>table</th>\n",
       "      <th>x</th>\n",
       "      <th>y</th>\n",
       "      <th>z</th>\n",
       "      <th>price</th>\n",
       "    </tr>\n",
       "  </thead>\n",
       "  <tbody>\n",
       "    <tr>\n",
       "      <th>0</th>\n",
       "      <td>0.30</td>\n",
       "      <td>62.1</td>\n",
       "      <td>58.0</td>\n",
       "      <td>4.27</td>\n",
       "      <td>4.29</td>\n",
       "      <td>2.66</td>\n",
       "      <td>499</td>\n",
       "    </tr>\n",
       "    <tr>\n",
       "      <th>1</th>\n",
       "      <td>0.33</td>\n",
       "      <td>60.8</td>\n",
       "      <td>58.0</td>\n",
       "      <td>4.42</td>\n",
       "      <td>4.46</td>\n",
       "      <td>2.70</td>\n",
       "      <td>984</td>\n",
       "    </tr>\n",
       "    <tr>\n",
       "      <th>2</th>\n",
       "      <td>0.90</td>\n",
       "      <td>62.2</td>\n",
       "      <td>60.0</td>\n",
       "      <td>6.04</td>\n",
       "      <td>6.12</td>\n",
       "      <td>3.78</td>\n",
       "      <td>6289</td>\n",
       "    </tr>\n",
       "    <tr>\n",
       "      <th>3</th>\n",
       "      <td>0.42</td>\n",
       "      <td>61.6</td>\n",
       "      <td>56.0</td>\n",
       "      <td>4.82</td>\n",
       "      <td>4.80</td>\n",
       "      <td>2.96</td>\n",
       "      <td>1082</td>\n",
       "    </tr>\n",
       "    <tr>\n",
       "      <th>4</th>\n",
       "      <td>0.31</td>\n",
       "      <td>60.4</td>\n",
       "      <td>59.0</td>\n",
       "      <td>4.35</td>\n",
       "      <td>4.43</td>\n",
       "      <td>2.65</td>\n",
       "      <td>779</td>\n",
       "    </tr>\n",
       "    <tr>\n",
       "      <th>...</th>\n",
       "      <td>...</td>\n",
       "      <td>...</td>\n",
       "      <td>...</td>\n",
       "      <td>...</td>\n",
       "      <td>...</td>\n",
       "      <td>...</td>\n",
       "      <td>...</td>\n",
       "    </tr>\n",
       "    <tr>\n",
       "      <th>26962</th>\n",
       "      <td>1.11</td>\n",
       "      <td>62.3</td>\n",
       "      <td>58.0</td>\n",
       "      <td>6.61</td>\n",
       "      <td>6.52</td>\n",
       "      <td>4.09</td>\n",
       "      <td>5408</td>\n",
       "    </tr>\n",
       "    <tr>\n",
       "      <th>26963</th>\n",
       "      <td>0.33</td>\n",
       "      <td>61.9</td>\n",
       "      <td>55.0</td>\n",
       "      <td>4.44</td>\n",
       "      <td>4.42</td>\n",
       "      <td>2.74</td>\n",
       "      <td>1114</td>\n",
       "    </tr>\n",
       "    <tr>\n",
       "      <th>26964</th>\n",
       "      <td>0.51</td>\n",
       "      <td>61.7</td>\n",
       "      <td>58.0</td>\n",
       "      <td>5.12</td>\n",
       "      <td>5.15</td>\n",
       "      <td>3.17</td>\n",
       "      <td>1656</td>\n",
       "    </tr>\n",
       "    <tr>\n",
       "      <th>26965</th>\n",
       "      <td>0.27</td>\n",
       "      <td>61.8</td>\n",
       "      <td>56.0</td>\n",
       "      <td>4.19</td>\n",
       "      <td>4.20</td>\n",
       "      <td>2.60</td>\n",
       "      <td>682</td>\n",
       "    </tr>\n",
       "    <tr>\n",
       "      <th>26966</th>\n",
       "      <td>1.25</td>\n",
       "      <td>62.0</td>\n",
       "      <td>58.0</td>\n",
       "      <td>6.90</td>\n",
       "      <td>6.88</td>\n",
       "      <td>4.27</td>\n",
       "      <td>5166</td>\n",
       "    </tr>\n",
       "  </tbody>\n",
       "</table>\n",
       "<p>26236 rows × 7 columns</p>\n",
       "</div>"
      ],
      "text/plain": [
       "       carat  depth  table     x     y     z  price\n",
       "0       0.30   62.1   58.0  4.27  4.29  2.66    499\n",
       "1       0.33   60.8   58.0  4.42  4.46  2.70    984\n",
       "2       0.90   62.2   60.0  6.04  6.12  3.78   6289\n",
       "3       0.42   61.6   56.0  4.82  4.80  2.96   1082\n",
       "4       0.31   60.4   59.0  4.35  4.43  2.65    779\n",
       "...      ...    ...    ...   ...   ...   ...    ...\n",
       "26962   1.11   62.3   58.0  6.61  6.52  4.09   5408\n",
       "26963   0.33   61.9   55.0  4.44  4.42  2.74   1114\n",
       "26964   0.51   61.7   58.0  5.12  5.15  3.17   1656\n",
       "26965   0.27   61.8   56.0  4.19  4.20  2.60    682\n",
       "26966   1.25   62.0   58.0  6.90  6.88  4.27   5166\n",
       "\n",
       "[26236 rows x 7 columns]"
      ]
     },
     "execution_count": 31,
     "metadata": {},
     "output_type": "execute_result"
    }
   ],
   "source": [
    "df[numerical_columns]"
   ]
  },
  {
   "cell_type": "code",
   "execution_count": 32,
   "metadata": {},
   "outputs": [
    {
     "data": {
      "text/plain": [
       "<bound method NDFrame.describe of        carat  depth  table     x     y     z  price\n",
       "0       0.30   62.1   58.0  4.27  4.29  2.66    499\n",
       "1       0.33   60.8   58.0  4.42  4.46  2.70    984\n",
       "2       0.90   62.2   60.0  6.04  6.12  3.78   6289\n",
       "3       0.42   61.6   56.0  4.82  4.80  2.96   1082\n",
       "4       0.31   60.4   59.0  4.35  4.43  2.65    779\n",
       "...      ...    ...    ...   ...   ...   ...    ...\n",
       "26962   1.11   62.3   58.0  6.61  6.52  4.09   5408\n",
       "26963   0.33   61.9   55.0  4.44  4.42  2.74   1114\n",
       "26964   0.51   61.7   58.0  5.12  5.15  3.17   1656\n",
       "26965   0.27   61.8   56.0  4.19  4.20  2.60    682\n",
       "26966   1.25   62.0   58.0  6.90  6.88  4.27   5166\n",
       "\n",
       "[26236 rows x 7 columns]>"
      ]
     },
     "execution_count": 32,
     "metadata": {},
     "output_type": "execute_result"
    }
   ],
   "source": [
    "# cheaking the description of the data\n",
    "df[numerical_columns].describe"
   ]
  },
  {
   "cell_type": "code",
   "execution_count": 33,
   "metadata": {},
   "outputs": [
    {
     "data": {
      "text/plain": [
       "<bound method NDFrame.describe of        carat  depth  table     x     y     z  price\n",
       "0       0.30   62.1   58.0  4.27  4.29  2.66    499\n",
       "1       0.33   60.8   58.0  4.42  4.46  2.70    984\n",
       "2       0.90   62.2   60.0  6.04  6.12  3.78   6289\n",
       "3       0.42   61.6   56.0  4.82  4.80  2.96   1082\n",
       "4       0.31   60.4   59.0  4.35  4.43  2.65    779\n",
       "...      ...    ...    ...   ...   ...   ...    ...\n",
       "26962   1.11   62.3   58.0  6.61  6.52  4.09   5408\n",
       "26963   0.33   61.9   55.0  4.44  4.42  2.74   1114\n",
       "26964   0.51   61.7   58.0  5.12  5.15  3.17   1656\n",
       "26965   0.27   61.8   56.0  4.19  4.20  2.60    682\n",
       "26966   1.25   62.0   58.0  6.90  6.88  4.27   5166\n",
       "\n",
       "[26236 rows x 7 columns]>"
      ]
     },
     "execution_count": 33,
     "metadata": {},
     "output_type": "execute_result"
    }
   ],
   "source": [
    "df[numerical_columns].describe"
   ]
  },
  {
   "cell_type": "code",
   "execution_count": 34,
   "metadata": {},
   "outputs": [
    {
     "data": {
      "text/plain": [
       "(26236, 10)"
      ]
     },
     "execution_count": 34,
     "metadata": {},
     "output_type": "execute_result"
    }
   ],
   "source": [
    "df.shape"
   ]
  },
  {
   "cell_type": "code",
   "execution_count": 35,
   "metadata": {},
   "outputs": [
    {
     "data": {
      "text/plain": [
       "carat  depth  table  x      y      z     price\n",
       "0.32   61.9   56.0   4.40   4.36   2.71  900      2\n",
       "0.30   62.2   58.0   4.28   4.31   2.67  552      2\n",
       "0.36   61.8   56.0   4.60   4.56   2.83  1094     2\n",
       "0.31   59.9   59.0   4.38   4.40   2.63  544      2\n",
       "0.32   62.2   55.0   4.40   4.38   2.73  1080     2\n",
       "                                                 ..\n",
       "0.50   59.9   58.0   5.18   5.17   3.10  1593     1\n",
       "                     5.14   5.17   3.09  2016     1\n",
       "              57.0   5.19   5.16   3.10  1286     1\n",
       "              56.0   5.09   5.36   3.13  1282     1\n",
       "4.50   65.8   58.0   10.23  10.16  6.72  18531    1\n",
       "Name: count, Length: 26219, dtype: int64"
      ]
     },
     "execution_count": 35,
     "metadata": {},
     "output_type": "execute_result"
    }
   ],
   "source": [
    "df[numerical_columns].value_counts()"
   ]
  },
  {
   "cell_type": "code",
   "execution_count": 36,
   "metadata": {},
   "outputs": [
    {
     "data": {
      "text/plain": [
       "cut    color  clarity\n",
       "Ideal  E      VS2        532\n",
       "       G      VS1        464\n",
       "              VS2        457\n",
       "       F      VS2        436\n",
       "       D      VS2        427\n",
       "                        ... \n",
       "Fair   J      VVS2         1\n",
       "Good   H      IF           1\n",
       "       J      VVS1         1\n",
       "       I      IF           1\n",
       "Fair   D      I1           1\n",
       "Name: count, Length: 274, dtype: int64"
      ]
     },
     "execution_count": 36,
     "metadata": {},
     "output_type": "execute_result"
    }
   ],
   "source": [
    "df[categorical_columns].value_counts()"
   ]
  },
  {
   "cell_type": "code",
   "execution_count": 37,
   "metadata": {},
   "outputs": [
    {
     "data": {
      "text/plain": [
       "cut\n",
       "Ideal        10535\n",
       "Premium       6694\n",
       "Very Good     5875\n",
       "Good          2376\n",
       "Fair           756\n",
       "Name: count, dtype: int64"
      ]
     },
     "execution_count": 37,
     "metadata": {},
     "output_type": "execute_result"
    }
   ],
   "source": [
    "df[categorical_columns][\"cut\"].value_counts()"
   ]
  },
  {
   "cell_type": "code",
   "execution_count": 38,
   "metadata": {},
   "outputs": [
    {
     "data": {
      "text/plain": [
       "color\n",
       "G    5521\n",
       "E    4792\n",
       "F    4606\n",
       "H    3984\n",
       "D    3265\n",
       "I    2670\n",
       "J    1398\n",
       "Name: count, dtype: int64"
      ]
     },
     "execution_count": 38,
     "metadata": {},
     "output_type": "execute_result"
    }
   ],
   "source": [
    "df[categorical_columns][\"color\"].value_counts()"
   ]
  },
  {
   "cell_type": "code",
   "execution_count": 39,
   "metadata": {},
   "outputs": [
    {
     "data": {
      "text/plain": [
       "clarity\n",
       "SI1     6402\n",
       "VS2     5919\n",
       "SI2     4436\n",
       "VS1     3985\n",
       "VVS2    2478\n",
       "VVS1    1791\n",
       "IF       871\n",
       "I1       354\n",
       "Name: count, dtype: int64"
      ]
     },
     "execution_count": 39,
     "metadata": {},
     "output_type": "execute_result"
    }
   ],
   "source": [
    "df[categorical_columns][\"clarity\"].value_counts()"
   ]
  },
  {
   "cell_type": "code",
   "execution_count": 40,
   "metadata": {},
   "outputs": [],
   "source": [
    "# ploting the grpah\n",
    "# 1: ploting histograph for the numeric data"
   ]
  },
  {
   "cell_type": "code",
   "execution_count": 41,
   "metadata": {},
   "outputs": [
    {
     "data": {
      "text/html": [
       "<div>\n",
       "<style scoped>\n",
       "    .dataframe tbody tr th:only-of-type {\n",
       "        vertical-align: middle;\n",
       "    }\n",
       "\n",
       "    .dataframe tbody tr th {\n",
       "        vertical-align: top;\n",
       "    }\n",
       "\n",
       "    .dataframe thead th {\n",
       "        text-align: right;\n",
       "    }\n",
       "</style>\n",
       "<table border=\"1\" class=\"dataframe\">\n",
       "  <thead>\n",
       "    <tr style=\"text-align: right;\">\n",
       "      <th></th>\n",
       "      <th>carat</th>\n",
       "      <th>depth</th>\n",
       "      <th>table</th>\n",
       "      <th>x</th>\n",
       "      <th>y</th>\n",
       "      <th>z</th>\n",
       "      <th>price</th>\n",
       "    </tr>\n",
       "  </thead>\n",
       "  <tbody>\n",
       "    <tr>\n",
       "      <th>0</th>\n",
       "      <td>0.30</td>\n",
       "      <td>62.1</td>\n",
       "      <td>58.0</td>\n",
       "      <td>4.27</td>\n",
       "      <td>4.29</td>\n",
       "      <td>2.66</td>\n",
       "      <td>499</td>\n",
       "    </tr>\n",
       "    <tr>\n",
       "      <th>1</th>\n",
       "      <td>0.33</td>\n",
       "      <td>60.8</td>\n",
       "      <td>58.0</td>\n",
       "      <td>4.42</td>\n",
       "      <td>4.46</td>\n",
       "      <td>2.70</td>\n",
       "      <td>984</td>\n",
       "    </tr>\n",
       "    <tr>\n",
       "      <th>2</th>\n",
       "      <td>0.90</td>\n",
       "      <td>62.2</td>\n",
       "      <td>60.0</td>\n",
       "      <td>6.04</td>\n",
       "      <td>6.12</td>\n",
       "      <td>3.78</td>\n",
       "      <td>6289</td>\n",
       "    </tr>\n",
       "    <tr>\n",
       "      <th>3</th>\n",
       "      <td>0.42</td>\n",
       "      <td>61.6</td>\n",
       "      <td>56.0</td>\n",
       "      <td>4.82</td>\n",
       "      <td>4.80</td>\n",
       "      <td>2.96</td>\n",
       "      <td>1082</td>\n",
       "    </tr>\n",
       "    <tr>\n",
       "      <th>4</th>\n",
       "      <td>0.31</td>\n",
       "      <td>60.4</td>\n",
       "      <td>59.0</td>\n",
       "      <td>4.35</td>\n",
       "      <td>4.43</td>\n",
       "      <td>2.65</td>\n",
       "      <td>779</td>\n",
       "    </tr>\n",
       "    <tr>\n",
       "      <th>...</th>\n",
       "      <td>...</td>\n",
       "      <td>...</td>\n",
       "      <td>...</td>\n",
       "      <td>...</td>\n",
       "      <td>...</td>\n",
       "      <td>...</td>\n",
       "      <td>...</td>\n",
       "    </tr>\n",
       "    <tr>\n",
       "      <th>26962</th>\n",
       "      <td>1.11</td>\n",
       "      <td>62.3</td>\n",
       "      <td>58.0</td>\n",
       "      <td>6.61</td>\n",
       "      <td>6.52</td>\n",
       "      <td>4.09</td>\n",
       "      <td>5408</td>\n",
       "    </tr>\n",
       "    <tr>\n",
       "      <th>26963</th>\n",
       "      <td>0.33</td>\n",
       "      <td>61.9</td>\n",
       "      <td>55.0</td>\n",
       "      <td>4.44</td>\n",
       "      <td>4.42</td>\n",
       "      <td>2.74</td>\n",
       "      <td>1114</td>\n",
       "    </tr>\n",
       "    <tr>\n",
       "      <th>26964</th>\n",
       "      <td>0.51</td>\n",
       "      <td>61.7</td>\n",
       "      <td>58.0</td>\n",
       "      <td>5.12</td>\n",
       "      <td>5.15</td>\n",
       "      <td>3.17</td>\n",
       "      <td>1656</td>\n",
       "    </tr>\n",
       "    <tr>\n",
       "      <th>26965</th>\n",
       "      <td>0.27</td>\n",
       "      <td>61.8</td>\n",
       "      <td>56.0</td>\n",
       "      <td>4.19</td>\n",
       "      <td>4.20</td>\n",
       "      <td>2.60</td>\n",
       "      <td>682</td>\n",
       "    </tr>\n",
       "    <tr>\n",
       "      <th>26966</th>\n",
       "      <td>1.25</td>\n",
       "      <td>62.0</td>\n",
       "      <td>58.0</td>\n",
       "      <td>6.90</td>\n",
       "      <td>6.88</td>\n",
       "      <td>4.27</td>\n",
       "      <td>5166</td>\n",
       "    </tr>\n",
       "  </tbody>\n",
       "</table>\n",
       "<p>26236 rows × 7 columns</p>\n",
       "</div>"
      ],
      "text/plain": [
       "       carat  depth  table     x     y     z  price\n",
       "0       0.30   62.1   58.0  4.27  4.29  2.66    499\n",
       "1       0.33   60.8   58.0  4.42  4.46  2.70    984\n",
       "2       0.90   62.2   60.0  6.04  6.12  3.78   6289\n",
       "3       0.42   61.6   56.0  4.82  4.80  2.96   1082\n",
       "4       0.31   60.4   59.0  4.35  4.43  2.65    779\n",
       "...      ...    ...    ...   ...   ...   ...    ...\n",
       "26962   1.11   62.3   58.0  6.61  6.52  4.09   5408\n",
       "26963   0.33   61.9   55.0  4.44  4.42  2.74   1114\n",
       "26964   0.51   61.7   58.0  5.12  5.15  3.17   1656\n",
       "26965   0.27   61.8   56.0  4.19  4.20  2.60    682\n",
       "26966   1.25   62.0   58.0  6.90  6.88  4.27   5166\n",
       "\n",
       "[26236 rows x 7 columns]"
      ]
     },
     "execution_count": 41,
     "metadata": {},
     "output_type": "execute_result"
    }
   ],
   "source": [
    "df[numerical_columns]"
   ]
  },
  {
   "cell_type": "code",
   "execution_count": 42,
   "metadata": {},
   "outputs": [
    {
     "data": {
      "text/plain": [
       "Index(['carat', 'depth', 'table', 'x', 'y', 'z', 'price'], dtype='object')"
      ]
     },
     "execution_count": 42,
     "metadata": {},
     "output_type": "execute_result"
    }
   ],
   "source": [
    "numerical_columns"
   ]
  },
  {
   "cell_type": "code",
   "execution_count": 45,
   "metadata": {},
   "outputs": [
    {
     "name": "stdout",
     "output_type": "stream",
     "text": [
      "\n",
      "\n"
     ]
    },
    {
     "data": {
      "image/png": "[encoded data removed]",
      "text/plain": [
       "<Figure size 800x600 with 1 Axes>"
      ]
     },
     "metadata": {},
     "output_type": "display_data"
    },
    {
     "name": "stdout",
     "output_type": "stream",
     "text": [
      "\n",
      "\n"
     ]
    },
    {
     "data": {
      "image/png": "[encoded data removed]",
      "text/plain": [
       "<Figure size 640x480 with 1 Axes>"
      ]
     },
     "metadata": {},
     "output_type": "display_data"
    },
    {
     "name": "stdout",
     "output_type": "stream",
     "text": [
      "\n",
      "\n"
     ]
    },
    {
     "data": {
      "image/png": "[encoded data removed]",
      "text/plain": [
       "<Figure size 640x480 with 1 Axes>"
      ]
     },
     "metadata": {},
     "output_type": "display_data"
    },
    {
     "name": "stdout",
     "output_type": "stream",
     "text": [
      "\n",
      "\n"
     ]
    },
    {
     "data": {
      "image/png": "[encoded data removed]",
      "text/plain": [
       "<Figure size 640x480 with 1 Axes>"
      ]
     },
     "metadata": {},
     "output_type": "display_data"
    },
    {
     "name": "stdout",
     "output_type": "stream",
     "text": [
      "\n",
      "\n"
     ]
    },
    {
     "data": {
      "image/png": "[encoded data removed]",
      "text/plain": [
       "<Figure size 640x480 with 1 Axes>"
      ]
     },
     "metadata": {},
     "output_type": "display_data"
    },
    {
     "name": "stdout",
     "output_type": "stream",
     "text": [
      "\n",
      "\n"
     ]
    },
    {
     "data": {
      "image/png": "[encoded data removed]",
      "text/plain": [
       "<Figure size 640x480 with 1 Axes>"
      ]
     },
     "metadata": {},
     "output_type": "display_data"
    },
    {
     "name": "stdout",
     "output_type": "stream",
     "text": [
      "\n",
      "\n"
     ]
    },
    {
     "data": {
      "image/png": "[encoded data removed]",
      "text/plain": [
       "<Figure size 640x480 with 1 Axes>"
      ]
     },
     "metadata": {},
     "output_type": "display_data"
    }
   ],
   "source": [
    "import seaborn as sns\n",
    "import matplotlib.pyplot as plt \n",
    "plt.figure(figsize=(8,6))\n",
    "\n",
    "for col in numerical_columns:\n",
    "    sns.histplot(data=df,x=col,kde=True)\n",
    "    print(\"\\n\")\n",
    "    plt.show()\n",
    "    "
   ]
  },
  {
   "cell_type": "code",
   "execution_count": 46,
   "metadata": {},
   "outputs": [],
   "source": [
    "# categorical data"
   ]
  },
  {
   "cell_type": "code",
   "execution_count": null,
   "metadata": {},
   "outputs": [],
   "source": [
    " # categorical data\n",
    " # take all the categorical col and you need to plot bar plot pr count plot"
   ]
  },
  {
   "cell_type": "code",
   "execution_count": 60,
   "metadata": {},
   "outputs": [
    {
     "name": "stdout",
     "output_type": "stream",
     "text": [
      "\n",
      "\n"
     ]
    },
    {
     "data": {
      "image/png": "[encoded data removed]",
      "text/plain": [
       "<Figure size 640x480 with 1 Axes>"
      ]
     },
     "metadata": {},
     "output_type": "display_data"
    }
   ],
   "source": [
    "import seaborn as sns\n",
    "import matplotlib.pyplot as plt \n",
    "sns.countplot(x='cut',data=df)\n",
    "\n",
    "print(\"\\n\")\n",
    "plt.show()\n",
    "    \n",
    "\n",
    "    "
   ]
  },
  {
   "cell_type": "code",
   "execution_count": 61,
   "metadata": {},
   "outputs": [
    {
     "data": {
      "text/plain": [
       "<Axes: xlabel='color', ylabel='count'>"
      ]
     },
     "execution_count": 61,
     "metadata": {},
     "output_type": "execute_result"
    },
    {
     "data": {
      "image/png": "[encoded data removed]",
      "text/plain": [
       "<Figure size 640x480 with 1 Axes>"
      ]
     },
     "metadata": {},
     "output_type": "display_data"
    }
   ],
   "source": [
    "sns.countplot(x='color',data=df)"
   ]
  },
  {
   "cell_type": "code",
   "execution_count": 62,
   "metadata": {},
   "outputs": [
    {
     "data": {
      "text/plain": [
       "<Axes: xlabel='clarity', ylabel='count'>"
      ]
     },
     "execution_count": 62,
     "metadata": {},
     "output_type": "execute_result"
    },
    {
     "data": {
      "image/png": "[encoded data removed]",
      "text/plain": [
       "<Figure size 640x480 with 1 Axes>"
      ]
     },
     "metadata": {},
     "output_type": "display_data"
    }
   ],
   "source": [
    "sns.countplot(x='clarity',data=df)"
   ]
  },
  {
   "cell_type": "code",
   "execution_count": 63,
   "metadata": {},
   "outputs": [
    {
     "data": {
      "text/plain": [
       "<Axes: >"
      ]
     },
     "execution_count": 63,
     "metadata": {},
     "output_type": "execute_result"
    },
    {
     "data": {
      "image/png": "[encoded data removed]",
      "text/plain": [
       "<Figure size 640x480 with 2 Axes>"
      ]
     },
     "metadata": {},
     "output_type": "display_data"
    }
   ],
   "source": [
    "# cheak the correlation between the data\n",
    "# persion correlation range (-1 to 1)\n",
    "sns.heatmap(df[numerical_columns].corr(),annot=True)"
   ]
  },
  {
   "cell_type": "code",
   "execution_count": 69,
   "metadata": {},
   "outputs": [
    {
     "data": {
      "text/plain": [
       "Index(['carat', 'cut', 'color', 'clarity', 'depth', 'table', 'x', 'y', 'z',\n",
       "       'price'],\n",
       "      dtype='object')"
      ]
     },
     "execution_count": 69,
     "metadata": {},
     "output_type": "execute_result"
    }
   ],
   "source": [
    "# encoding ( convert cat. into the num.)\n",
    "# df.categorical_columns()\n",
    "df.columns"
   ]
  },
  {
   "cell_type": "code",
   "execution_count": 70,
   "metadata": {},
   "outputs": [
    {
     "data": {
      "text/plain": [
       "array(['SI1', 'IF', 'VVS2', 'VS1', 'VVS1', 'VS2', 'SI2', 'I1'],\n",
       "      dtype=object)"
      ]
     },
     "execution_count": 70,
     "metadata": {},
     "output_type": "execute_result"
    }
   ],
   "source": [
    "df[\"clarity\"].unique()"
   ]
  },
  {
   "cell_type": "code",
   "execution_count": 71,
   "metadata": {},
   "outputs": [
    {
     "data": {
      "text/plain": [
       "array(['Ideal', 'Premium', 'Very Good', 'Good', 'Fair'], dtype=object)"
      ]
     },
     "execution_count": 71,
     "metadata": {},
     "output_type": "execute_result"
    }
   ],
   "source": [
    "df[\"cut\"].unique()"
   ]
  },
  {
   "cell_type": "code",
   "execution_count": 73,
   "metadata": {},
   "outputs": [
    {
     "data": {
      "text/plain": [
       "array(['E', 'G', 'F', 'D', 'H', 'J', 'I'], dtype=object)"
      ]
     },
     "execution_count": 73,
     "metadata": {},
     "output_type": "execute_result"
    }
   ],
   "source": [
    "df[\"color\"].unique()"
   ]
  },
  {
   "cell_type": "code",
   "execution_count": 74,
   "metadata": {},
   "outputs": [],
   "source": [
    "# assing the numerical value sepratly\n",
    "# it is a ordinal mapping\n",
    "cut_map={'Fair':1,'Good':2,'Very Good':3,'Premium':4,\"Ideal\":5}\n",
    "clarity_map={'SI1':3, 'IF':8, 'VVS2':6, 'VS1':5, 'VVS1':7, 'VS2':4, 'SI2':2, 'I1':1}\n",
    "color_map={'E':2, 'G':4, 'F':3, 'D':1, 'H':5, 'J':7, 'I':6}"
   ]
  },
  {
   "cell_type": "code",
   "execution_count": 77,
   "metadata": {},
   "outputs": [
    {
     "data": {
      "text/plain": [
       "<bound method Series.map of 0        5\n",
       "1        4\n",
       "2        3\n",
       "3        5\n",
       "4        5\n",
       "        ..\n",
       "26962    4\n",
       "26963    5\n",
       "26964    4\n",
       "26965    3\n",
       "26966    4\n",
       "Name: cut, Length: 26236, dtype: int64>"
      ]
     },
     "execution_count": 77,
     "metadata": {},
     "output_type": "execute_result"
    }
   ],
   "source": [
    "df[\"cut\"].map"
   ]
  },
  {
   "cell_type": "code",
   "execution_count": 76,
   "metadata": {},
   "outputs": [
    {
     "name": "stderr",
     "output_type": "stream",
     "text": [
      "C:\\Users\\imaba\\AppData\\Local\\Temp\\ipykernel_22956\\2550605303.py:1: SettingWithCopyWarning: \n",
      "A value is trying to be set on a copy of a slice from a DataFrame.\n",
      "Try using .loc[row_indexer,col_indexer] = value instead\n",
      "\n",
      "See the caveats in the documentation: https://pandas.pydata.org/pandas-docs/stable/user_guide/indexing.html#returning-a-view-versus-a-copy\n",
      "  df[\"cut\"]=df[\"cut\"].map(cut_map)\n",
      "C:\\Users\\imaba\\AppData\\Local\\Temp\\ipykernel_22956\\2550605303.py:2: SettingWithCopyWarning: \n",
      "A value is trying to be set on a copy of a slice from a DataFrame.\n",
      "Try using .loc[row_indexer,col_indexer] = value instead\n",
      "\n",
      "See the caveats in the documentation: https://pandas.pydata.org/pandas-docs/stable/user_guide/indexing.html#returning-a-view-versus-a-copy\n",
      "  df[\"clarity\"]=df[\"clarity\"].map(clarity_map)\n",
      "C:\\Users\\imaba\\AppData\\Local\\Temp\\ipykernel_22956\\2550605303.py:3: SettingWithCopyWarning: \n",
      "A value is trying to be set on a copy of a slice from a DataFrame.\n",
      "Try using .loc[row_indexer,col_indexer] = value instead\n",
      "\n",
      "See the caveats in the documentation: https://pandas.pydata.org/pandas-docs/stable/user_guide/indexing.html#returning-a-view-versus-a-copy\n",
      "  df[\"color\"]=df[\"color\"].map(color_map)\n"
     ]
    }
   ],
   "source": [
    "df[\"cut\"]=df[\"cut\"].map(cut_map)\n",
    "df[\"clarity\"]=df[\"clarity\"].map(clarity_map)\n",
    "df[\"color\"]=df[\"color\"].map(color_map)"
   ]
  },
  {
   "cell_type": "code",
   "execution_count": 78,
   "metadata": {},
   "outputs": [
    {
     "data": {
      "text/html": [
       "<div>\n",
       "<style scoped>\n",
       "    .dataframe tbody tr th:only-of-type {\n",
       "        vertical-align: middle;\n",
       "    }\n",
       "\n",
       "    .dataframe tbody tr th {\n",
       "        vertical-align: top;\n",
       "    }\n",
       "\n",
       "    .dataframe thead th {\n",
       "        text-align: right;\n",
       "    }\n",
       "</style>\n",
       "<table border=\"1\" class=\"dataframe\">\n",
       "  <thead>\n",
       "    <tr style=\"text-align: right;\">\n",
       "      <th></th>\n",
       "      <th>carat</th>\n",
       "      <th>cut</th>\n",
       "      <th>color</th>\n",
       "      <th>clarity</th>\n",
       "      <th>depth</th>\n",
       "      <th>table</th>\n",
       "      <th>x</th>\n",
       "      <th>y</th>\n",
       "      <th>z</th>\n",
       "      <th>price</th>\n",
       "    </tr>\n",
       "  </thead>\n",
       "  <tbody>\n",
       "    <tr>\n",
       "      <th>0</th>\n",
       "      <td>0.30</td>\n",
       "      <td>5</td>\n",
       "      <td>2</td>\n",
       "      <td>3</td>\n",
       "      <td>62.1</td>\n",
       "      <td>58.0</td>\n",
       "      <td>4.27</td>\n",
       "      <td>4.29</td>\n",
       "      <td>2.66</td>\n",
       "      <td>499</td>\n",
       "    </tr>\n",
       "    <tr>\n",
       "      <th>1</th>\n",
       "      <td>0.33</td>\n",
       "      <td>4</td>\n",
       "      <td>4</td>\n",
       "      <td>8</td>\n",
       "      <td>60.8</td>\n",
       "      <td>58.0</td>\n",
       "      <td>4.42</td>\n",
       "      <td>4.46</td>\n",
       "      <td>2.70</td>\n",
       "      <td>984</td>\n",
       "    </tr>\n",
       "    <tr>\n",
       "      <th>2</th>\n",
       "      <td>0.90</td>\n",
       "      <td>3</td>\n",
       "      <td>2</td>\n",
       "      <td>6</td>\n",
       "      <td>62.2</td>\n",
       "      <td>60.0</td>\n",
       "      <td>6.04</td>\n",
       "      <td>6.12</td>\n",
       "      <td>3.78</td>\n",
       "      <td>6289</td>\n",
       "    </tr>\n",
       "    <tr>\n",
       "      <th>3</th>\n",
       "      <td>0.42</td>\n",
       "      <td>5</td>\n",
       "      <td>3</td>\n",
       "      <td>5</td>\n",
       "      <td>61.6</td>\n",
       "      <td>56.0</td>\n",
       "      <td>4.82</td>\n",
       "      <td>4.80</td>\n",
       "      <td>2.96</td>\n",
       "      <td>1082</td>\n",
       "    </tr>\n",
       "    <tr>\n",
       "      <th>4</th>\n",
       "      <td>0.31</td>\n",
       "      <td>5</td>\n",
       "      <td>3</td>\n",
       "      <td>7</td>\n",
       "      <td>60.4</td>\n",
       "      <td>59.0</td>\n",
       "      <td>4.35</td>\n",
       "      <td>4.43</td>\n",
       "      <td>2.65</td>\n",
       "      <td>779</td>\n",
       "    </tr>\n",
       "  </tbody>\n",
       "</table>\n",
       "</div>"
      ],
      "text/plain": [
       "   carat  cut  color  clarity  depth  table     x     y     z  price\n",
       "0   0.30    5      2        3   62.1   58.0  4.27  4.29  2.66    499\n",
       "1   0.33    4      4        8   60.8   58.0  4.42  4.46  2.70    984\n",
       "2   0.90    3      2        6   62.2   60.0  6.04  6.12  3.78   6289\n",
       "3   0.42    5      3        5   61.6   56.0  4.82  4.80  2.96   1082\n",
       "4   0.31    5      3        7   60.4   59.0  4.35  4.43  2.65    779"
      ]
     },
     "execution_count": 78,
     "metadata": {},
     "output_type": "execute_result"
    }
   ],
   "source": [
    "df.head()"
   ]
  },
  {
   "cell_type": "code",
   "execution_count": null,
   "metadata": {},
   "outputs": [],
   "source": []
  }
 ],
 "metadata": {
  "kernelspec": {
   "display_name": "base",
   "language": "python",
   "name": "python3"
  },
  "language_info": {
   "codemirror_mode": {
    "name": "ipython",
    "version": 3
   },
   "file_extension": ".py",
   "mimetype": "text/x-python",
   "name": "python",
   "nbconvert_exporter": "python",
   "pygments_lexer": "ipython3",
   "version": "3.11.5"
  }
 },
 "nbformat": 4,
 "nbformat_minor": 2
}
